{
  "nbformat": 4,
  "nbformat_minor": 0,
  "metadata": {
    "colab": {
      "provenance": []
    },
    "kernelspec": {
      "name": "python3",
      "display_name": "Python 3"
    },
    "language_info": {
      "name": "python"
    }
  },
  "cells": [
    {
      "cell_type": "code",
      "source": [
        "from google.colab import drive\n",
        "drive.mount('/content/drive')"
      ],
      "metadata": {
        "colab": {
          "base_uri": "https://localhost:8080/"
        },
        "id": "7qTvccGZdq0R",
        "outputId": "7c7acf7e-5cf6-48c8-cc60-cfc6448b0956"
      },
      "execution_count": null,
      "outputs": [
        {
          "output_type": "stream",
          "name": "stdout",
          "text": [
            "Mounted at /content/drive\n"
          ]
        }
      ]
    },
    {
      "cell_type": "code",
      "source": [],
      "metadata": {
        "id": "b5hyYEAAd1ch"
      },
      "execution_count": null,
      "outputs": []
    },
    {
      "cell_type": "code",
      "execution_count": null,
      "metadata": {
        "colab": {
          "base_uri": "https://localhost:8080/"
        },
        "id": "ta_qA772cVyj",
        "outputId": "ff5bc034-7e3b-44b0-ed43-0752013f5bdd"
      },
      "outputs": [
        {
          "output_type": "stream",
          "name": "stdout",
          "text": [
            "Copy of sent_ans17.txt\n",
            "Copy of sent_ans20.txt\n",
            "Copy of sent_ans21.txt\n",
            "Copy of sent_ans18.txt\n",
            "Copy of sent_ans19.txt\n",
            "Copy of sent_ans14.txt\n",
            "Copy of sent_ans16.txt\n",
            "Copy of sent_ans13.txt\n",
            "Copy of sent_ans15.txt\n",
            "Copy of sent_ans22.txt\n",
            "Copy of sent_ans2.txt\n",
            "Copy of sent_ans6.txt\n",
            "Copy of sent_ans4.txt\n",
            "Copy of sent_ans12.txt\n",
            "Copy of sent_ans8.txt\n",
            "Copy of sent_ans7.txt\n",
            "Copy of sent_ans9.txt\n",
            "Copy of sent_ans5.txt\n",
            "Copy of sent_ans11.txt\n",
            "Copy of sent_ans3.txt\n",
            "Copy of sent_ans1.txt\n"
          ]
        }
      ],
      "source": [
        "import os\n",
        "import random\n",
        "\n",
        "# Set the path to the directory containing the text files\n",
        "path = '/content/drive/MyDrive/mlproject/noisebefore'\n",
        "outpath = '/content/drive/MyDrive/mlproject/cleanedfiles/noisyfiles'\n",
        "\n",
        "# Loop through all the files in the directory\n",
        "for filename in os.listdir(path):\n",
        " \n",
        "  if filename.endswith('.txt'):\n",
        "    print(filename)\n",
        "    \n",
        "    with open(os.path.join(path, filename)) as file:\n",
        "      lines = file.readlines()\n",
        "\n",
        "    \n",
        "    output_filename = 'modified_' + filename\n",
        "    with open(os.path.join(outpath, output_filename), 'w') as output_file:\n",
        "    \n",
        "      for line in lines:\n",
        "       \n",
        "        words = line.split()\n",
        "\n",
        "        if len(words) >= 2:\n",
        "   \n",
        "          first_word = random.choice(words)\n",
        "          second_word = random.choice(words)\n",
        "\n",
        "    \n",
        "          words[words.index(first_word)] = second_word\n",
        "          words[words.index(second_word)] = first_word\n",
        "\n",
        "        modified_line = ' '.join(words)\n",
        "\n",
        "     \n",
        "        output_file.write(modified_line)\n",
        "\n",
        "        \n",
        "        output_file.write('\\n')\n"
      ]
    },
    {
      "cell_type": "code",
      "source": [
        "import os\n",
        "import random\n",
        "\n",
        "# Set the path to the directory containing the text files\n",
        "path = '/content/drive/MyDrive/mlproject/cleanedfiles/noisyfiles/permutation'\n",
        "outpath = '/content/drive/MyDrive/mlproject/cleanedfiles/noisyfiles/randdeletion'\n",
        "\n",
        "\n",
        "for filename in os.listdir(path):\n",
        "\n",
        "  if filename.endswith('.txt'):\n",
        "    print(filename)\n",
        "\n",
        "    with open(os.path.join(path, filename)) as file:\n",
        "      lines = file.readlines()\n",
        "\n",
        "\n",
        "    output_filename = 'randdeleted_' + filename\n",
        "    with open(os.path.join(outpath, output_filename), 'w') as output_file:\n",
        "\n",
        "      for line in lines:\n",
        " \n",
        "        words = line.split()\n",
        "\n",
        "\n",
        "        if len(words) >= 2:\n",
        " \n",
        "          num_words = random.randint(1, 2)\n",
        "\n",
        "  \n",
        "          for i in range(num_words):\n",
        "            words.pop(random.randint(0, len(words) - 1))\n",
        "\n",
        "\n",
        "        modified_line = ' '.join(words)\n",
        "\n",
        "        output_file.write(modified_line)\n",
        "\n",
        "\n",
        "        output_file.write('\\n')\n"
      ],
      "metadata": {
        "colab": {
          "base_uri": "https://localhost:8080/"
        },
        "id": "KXzWbjtigmaI",
        "outputId": "d915db2f-2ffa-4a80-ce89-5a539b097ab5"
      },
      "execution_count": null,
      "outputs": [
        {
          "output_type": "stream",
          "name": "stdout",
          "text": [
            "modified_Copy of sent_ans17.txt\n",
            "modified_Copy of sent_ans20.txt\n",
            "modified_Copy of sent_ans21.txt\n",
            "modified_Copy of sent_ans18.txt\n",
            "modified_Copy of sent_ans19.txt\n",
            "modified_Copy of sent_ans14.txt\n",
            "modified_Copy of sent_ans16.txt\n",
            "modified_Copy of sent_ans13.txt\n",
            "modified_Copy of sent_ans15.txt\n",
            "modified_Copy of sent_ans22.txt\n",
            "modified_Copy of sent_ans2.txt\n",
            "modified_Copy of sent_ans6.txt\n",
            "modified_Copy of sent_ans4.txt\n",
            "modified_Copy of sent_ans12.txt\n",
            "modified_Copy of sent_ans8.txt\n",
            "modified_Copy of sent_ans7.txt\n",
            "modified_Copy of sent_ans9.txt\n",
            "modified_Copy of sent_ans5.txt\n",
            "modified_Copy of sent_ans11.txt\n",
            "modified_Copy of sent_ans3.txt\n",
            "modified_Copy of sent_ans1.txt\n"
          ]
        }
      ]
    }
  ]
}